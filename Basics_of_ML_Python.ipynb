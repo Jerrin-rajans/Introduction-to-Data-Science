{
  "nbformat": 4,
  "nbformat_minor": 0,
  "metadata": {
    "colab": {
      "name": "Basics_of_Python.ipynb",
      "version": "0.3.2",
      "provenance": [],
      "include_colab_link": true
    },
    "kernelspec": {
      "name": "python3",
      "display_name": "Python 3"
    }
  },
  "cells": [
    {
      "cell_type": "markdown",
      "metadata": {
        "id": "view-in-github",
        "colab_type": "text"
      },
      "source": [
        "<a href=\"https://colab.research.google.com/github/Jerrin-rajans/Introduction-to-Data-Science/blob/master/Basics_of_Python.ipynb\" target=\"_parent\"><img src=\"https://colab.research.google.com/assets/colab-badge.svg\" alt=\"Open In Colab\"/></a>"
      ]
    },
    {
      "cell_type": "markdown",
      "metadata": {
        "id": "xmM0ZMx3HSfB",
        "colab_type": "text"
      },
      "source": [
        "# Learn Python in one week..............\n",
        "I wont be covering basics much as we \n",
        "go ahead we will see how things are used and how to see different things in terms of python.\n",
        "\n",
        "We will be directly moving into projects:)\n",
        "\n",
        "I am picking python for two reasons\n",
        "1) Readability\n",
        "2) General Purpose\n",
        "\n",
        "\n",
        "\n",
        "4 steps before you start python\n",
        "1) Install python\n",
        "2) Set Up Environment\n",
        "3) Install Dependencies\n",
        "4) Write python Script\n",
        "\n",
        "\n",
        "\n",
        "Set up Python:\n",
        "If you are in mac, linux you can already have python pre installed.\n",
        "but, windows users , you have to download it and use it. \n",
        "The link for python downloading is : \n",
        "Download Python here:\n",
        "https://www.python.org/downloads/\n",
        "\n",
        "\n",
        "Once you have done that lets begin...\n",
        "# or\n",
        "\n",
        "Lets remove headache of downloading things: Driectly go to CoLab. Just type google colab in your chrome browser. And start offf....\n"
      ]
    },
    {
      "cell_type": "markdown",
      "metadata": {
        "id": "p9sqf8oNZV6m",
        "colab_type": "text"
      },
      "source": [
        "#A machine learning project may not be linear, but it has a number of well known steps:\n",
        "\n",
        "Define Problem.\n",
        "Prepare Data.\n",
        "Evaluate Algorithms.\n",
        "Improve Results.\n",
        "Present Results."
      ]
    },
    {
      "cell_type": "code",
      "metadata": {
        "id": "HAuUbcK7WwVw",
        "colab_type": "code",
        "colab": {}
      },
      "source": [
        "# lets begin with basic projects   \n",
        "# First basic Machine Learning Project is \"Wine Quality Prediction\"\n",
        "#before starting import some packages \n"
      ],
      "execution_count": 0,
      "outputs": []
    },
    {
      "cell_type": "code",
      "metadata": {
        "id": "qi6t5uoxZ8kB",
        "colab_type": "code",
        "colab": {}
      },
      "source": [
        "import numpy as np #numerical library in python and you will be all set to go ;"
      ],
      "execution_count": 0,
      "outputs": []
    },
    {
      "cell_type": "code",
      "metadata": {
        "id": "0_OqaHrSaMmL",
        "colab_type": "code",
        "colab": {}
      },
      "source": [
        "import pandas as pd #Pandas will help you to play with datasets"
      ],
      "execution_count": 0,
      "outputs": []
    },
    {
      "cell_type": "markdown",
      "metadata": {
        "id": "jNL-6NDBahcE",
        "colab_type": "text"
      },
      "source": [
        "Now it's time to start importing functions for machine learning. \n",
        "The first one will be the train_test_split() function from the model_selection module.\n",
        "As its name implies, this module contains many utilities that will help us choose between models.\n",
        "\n",
        "\n",
        "\n"
      ]
    },
    {
      "cell_type": "code",
      "metadata": {
        "id": "-BSUHpBKaZOi",
        "colab_type": "code",
        "colab": {}
      },
      "source": [
        "from sklearn.model_selection import train_test_split"
      ],
      "execution_count": 0,
      "outputs": []
    },
    {
      "cell_type": "code",
      "metadata": {
        "id": "g_Gl5lFBa178",
        "colab_type": "code",
        "colab": {}
      },
      "source": [
        "from sklearn import preprocessing"
      ],
      "execution_count": 0,
      "outputs": []
    },
    {
      "cell_type": "code",
      "metadata": {
        "id": "AxrU5NBfa5NM",
        "colab_type": "code",
        "colab": {}
      },
      "source": [
        "#Import Random forest for  model( don't worry more on this libraries. You will understand more as we go ahead)\n",
        "from sklearn.ensemble import RandomForestRegressor"
      ],
      "execution_count": 0,
      "outputs": []
    },
    {
      "cell_type": "code",
      "metadata": {
        "id": "u8TjTKxBbymP",
        "colab_type": "code",
        "colab": {}
      },
      "source": [
        "#For now, let's move on to importing the tools to help us perform cross-validation.\n",
        "from sklearn.pipeline import make_pipeline\n",
        "from sklearn.model_selection import GridSearchCV\n"
      ],
      "execution_count": 0,
      "outputs": []
    },
    {
      "cell_type": "code",
      "metadata": {
        "id": "XfnciNbXcsKr",
        "colab_type": "code",
        "colab": {}
      },
      "source": [
        "#Next, let's import some metrics we can use to evaluate our model performance later.\n",
        "\n",
        "from sklearn.metrics import mean_squared_error, r2_score"
      ],
      "execution_count": 0,
      "outputs": []
    },
    {
      "cell_type": "code",
      "metadata": {
        "id": "-b7_Mz5dc9nY",
        "colab_type": "code",
        "colab": {}
      },
      "source": [
        "from sklearn.externals import joblib"
      ],
      "execution_count": 0,
      "outputs": []
    },
    {
      "cell_type": "code",
      "metadata": {
        "id": "451bnCj9dJh7",
        "colab_type": "code",
        "colab": {}
      },
      "source": [
        "#now lets load the data\n",
        "#Load wine data from remote URLPython\n",
        "dataset_url = 'http://mlr.cs.umass.edu/ml/machine-learning-databases/wine-quality/winequality-red.csv'\n",
        "data = pd.read_csv(dataset_url)"
      ],
      "execution_count": 0,
      "outputs": []
    },
    {
      "cell_type": "code",
      "metadata": {
        "id": "-rUckuspdXJC",
        "colab_type": "code",
        "colab": {}
      },
      "source": [
        "#lets view the data\n",
        "data.head()"
      ],
      "execution_count": 0,
      "outputs": []
    },
    {
      "cell_type": "code",
      "metadata": {
        "id": "86i5JNUsdiSi",
        "colab_type": "code",
        "colab": {}
      },
      "source": [
        "data = pd.read_csv(dataset_url, sep=';')\n",
        "print(data.head())"
      ],
      "execution_count": 0,
      "outputs": []
    },
    {
      "cell_type": "code",
      "metadata": {
        "id": "xy_yfCQjdqsR",
        "colab_type": "code",
        "colab": {}
      },
      "source": [
        "print(data.shape)"
      ],
      "execution_count": 0,
      "outputs": []
    },
    {
      "cell_type": "code",
      "metadata": {
        "id": "05CRV_Prd9e5",
        "colab_type": "code",
        "colab": {}
      },
      "source": [
        "#summary stats\n",
        "print(data.describe)"
      ],
      "execution_count": 0,
      "outputs": []
    },
    {
      "cell_type": "code",
      "metadata": {
        "id": "1-7YVmdreKPK",
        "colab_type": "code",
        "colab": {}
      },
      "source": [
        "# split your data into training data and test data\n",
        "y = data.quality\n",
        "X = data.drop('quality', axis=1) "
      ],
      "execution_count": 0,
      "outputs": []
    },
    {
      "cell_type": "code",
      "metadata": {
        "id": "TzoLP0ixelEc",
        "colab_type": "code",
        "colab": {}
      },
      "source": [
        "X_train, X_test, y_train, y_test = train_test_split(X, y, \n",
        "                                                    test_size=0.2, \n",
        "                                                    random_state=123, \n",
        "                                                    stratify=y)"
      ],
      "execution_count": 0,
      "outputs": []
    },
    {
      "cell_type": "code",
      "metadata": {
        "id": "fpjaQoPvewRl",
        "colab_type": "code",
        "colab": {}
      },
      "source": [
        "#Fitting the Transformer APIPython\n",
        "\n",
        "scaler = preprocessing.StandardScaler().fit(X_train)"
      ],
      "execution_count": 0,
      "outputs": []
    },
    {
      "cell_type": "code",
      "metadata": {
        "id": "z7DuN3ZBe2rs",
        "colab_type": "code",
        "colab": {}
      },
      "source": [
        "X_train_scaled = scaler.transform(X_train)\n",
        "\n"
      ],
      "execution_count": 0,
      "outputs": []
    },
    {
      "cell_type": "code",
      "metadata": {
        "id": "kuUmS8wme8HA",
        "colab_type": "code",
        "colab": {}
      },
      "source": [
        "X_test_scaled = scaler.transform(X_test)\n",
        " \n",
        "print(X_test_scaled.mean(axis=0))"
      ],
      "execution_count": 0,
      "outputs": []
    },
    {
      "cell_type": "code",
      "metadata": {
        "id": "nFwpJ8ESfOjT",
        "colab_type": "code",
        "colab": {}
      },
      "source": [
        "pipeline = make_pipeline(preprocessing.StandardScaler(), \n",
        "                         RandomForestRegressor(n_estimators=100))"
      ],
      "execution_count": 0,
      "outputs": []
    },
    {
      "cell_type": "code",
      "metadata": {
        "id": "QXQlIVrQfgME",
        "colab_type": "code",
        "colab": {}
      },
      "source": [
        "print(pipeline.get_params())"
      ],
      "execution_count": 0,
      "outputs": []
    },
    {
      "cell_type": "code",
      "metadata": {
        "id": "0XDBtcOofrdJ",
        "colab_type": "code",
        "colab": {}
      },
      "source": [
        "hyperparameters = { 'randomforestregressor__max_features' : ['auto', 'sqrt', 'log2'],\n",
        "                  'randomforestregressor__max_depth': [None, 5, 3, 1]}"
      ],
      "execution_count": 0,
      "outputs": []
    },
    {
      "cell_type": "code",
      "metadata": {
        "id": "NOr_sPJaf0l1",
        "colab_type": "code",
        "colab": {}
      },
      "source": [
        "clf = GridSearchCV(pipeline, hyperparameters, cv=10)\n",
        " \n",
        "# Fit and tune model\n",
        "clf.fit(X_train, y_train)"
      ],
      "execution_count": 0,
      "outputs": []
    },
    {
      "cell_type": "code",
      "metadata": {
        "id": "DOHvF-_AgA37",
        "colab_type": "code",
        "colab": {}
      },
      "source": [
        "print(clf.refit)"
      ],
      "execution_count": 0,
      "outputs": []
    },
    {
      "cell_type": "code",
      "metadata": {
        "id": "Ncquwe7qgHym",
        "colab_type": "code",
        "colab": {}
      },
      "source": [
        "y_pred = clf.predict(X_test)"
      ],
      "execution_count": 0,
      "outputs": []
    },
    {
      "cell_type": "code",
      "metadata": {
        "id": "zFb4N_z1gRh8",
        "colab_type": "code",
        "colab": {}
      },
      "source": [
        "print(r2_score(y_test, y_pred))\n",
        "# 0.45044082571584243\n",
        " \n",
        "print(mean_squared_error(y_test, y_pred))"
      ],
      "execution_count": 0,
      "outputs": []
    },
    {
      "cell_type": "code",
      "metadata": {
        "id": "kQ-Jz4OhgXh-",
        "colab_type": "code",
        "colab": {}
      },
      "source": [
        "joblib.dump(clf, 'rf_regressor.pkl')"
      ],
      "execution_count": 0,
      "outputs": []
    },
    {
      "cell_type": "code",
      "metadata": {
        "id": "ra-I9nmkgmpa",
        "colab_type": "code",
        "colab": {}
      },
      "source": [
        "clf2 = joblib.load('rf_regressor.pkl')\n",
        "#And that's it. When you want to load the model again, simply use this function:"
      ],
      "execution_count": 0,
      "outputs": []
    },
    {
      "cell_type": "code",
      "metadata": {
        "id": "099dQGgMgrpC",
        "colab_type": "code",
        "colab": {}
      },
      "source": [
        "clf2.predict(X_test)"
      ],
      "execution_count": 0,
      "outputs": []
    },
    {
      "cell_type": "code",
      "metadata": {
        "id": "4HxHve9GgzQ3",
        "colab_type": "code",
        "colab": {}
      },
      "source": [
        ""
      ],
      "execution_count": 0,
      "outputs": []
    }
  ]
}
