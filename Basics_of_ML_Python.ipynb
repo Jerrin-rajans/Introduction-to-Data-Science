{
  "nbformat": 4,
  "nbformat_minor": 0,
  "metadata": {
    "colab": {
      "name": "Basics_of_Python.ipynb",
      "version": "0.3.2",
      "provenance": [],
      "include_colab_link": true
    },
    "kernelspec": {
      "name": "python3",
      "display_name": "Python 3"
    }
  },
  "cells": [
    {
      "cell_type": "markdown",
      "metadata": {
        "id": "view-in-github",
        "colab_type": "text"
      },
      "source": [
        "<a href=\"https://colab.research.google.com/github/Jerrin-rajans/Introduction-to-Data-Science/blob/master/Basics_of_Python.ipynb\" target=\"_parent\"><img src=\"https://colab.research.google.com/assets/colab-badge.svg\" alt=\"Open In Colab\"/></a>"
      ]
    },
    {
      "cell_type": "markdown",
      "metadata": {
        "id": "xmM0ZMx3HSfB",
        "colab_type": "text"
      },
      "source": [
        "# Learn Python in one week..............\n",
        "I wont be covering basics much as we \n",
        "go ahead we will see how things are used and how to see different things in terms of python.\n",
        "\n",
        "We will be directly moving into projects:)\n",
        "\n",
        "I am picking python for two reasons\n",
        "1) Readability\n",
        "2) General Purpose\n",
        "\n",
        "\n",
        "\n",
        "4 steps before you start python\n",
        "1) Install python\n",
        "2) Set Up Environment\n",
        "3) Install Dependencies\n",
        "4) Write python Script\n",
        "\n",
        "\n",
        "\n",
        "Set up Python:\n",
        "If you are in mac, linux you can already have python pre installed.\n",
        "but, windows users , you have to download it and use it. \n",
        "The link for python downloading is : \n",
        "Download Python here:\n",
        "https://www.python.org/downloads/\n",
        "\n",
        "\n",
        "Once you have done that lets begin...\n",
        "# or\n",
        "\n",
        "Lets remove headache of downloading things: Driectly go to CoLab. Just type google colab in your chrome browser. And start offf....\n"
      ]
    },
    {
      "cell_type": "markdown",
      "metadata": {
        "id": "p9sqf8oNZV6m",
        "colab_type": "text"
      },
      "source": [
        "#A machine learning project may not be linear, but it has a number of well known steps:\n",
        "\n",
        "Define Problem.\n",
        "Prepare Data.\n",
        "Evaluate Algorithms.\n",
        "Improve Results.\n",
        "Present Results."
      ]
    },
    {
      "cell_type": "code",
      "metadata": {
        "id": "HAuUbcK7WwVw",
        "colab_type": "code",
        "colab": {}
      },
      "source": [
        "# lets begin with basic projects   \n",
        "# First basic Machine Learning Project is \"Wine Quality Prediction\"\n",
        "#before starting import some packages \n"
      ],
      "execution_count": 0,
      "outputs": []
    },
    {
      "cell_type": "code",
      "metadata": {
        "id": "qi6t5uoxZ8kB",
        "colab_type": "code",
        "colab": {}
      },
      "source": [
        "import numpy as np #numerical library in python and you will be all set to go ;"
      ],
      "execution_count": 0,
      "outputs": []
    },
    {
      "cell_type": "code",
      "metadata": {
        "id": "0_OqaHrSaMmL",
        "colab_type": "code",
        "colab": {}
      },
      "source": [
        "import pandas as pd #Pandas will help you to play with datasets"
      ],
      "execution_count": 0,
      "outputs": []
    },
    {
      "cell_type": "markdown",
      "metadata": {
        "id": "jNL-6NDBahcE",
        "colab_type": "text"
      },
      "source": [
        "Now it's time to start importing functions for machine learning. \n",
        "The first one will be the train_test_split() function from the model_selection module.\n",
        "As its name implies, this module contains many utilities that will help us choose between models.\n",
        "\n",
        "\n",
        "\n"
      ]
    },
    {
      "cell_type": "code",
      "metadata": {
        "id": "-BSUHpBKaZOi",
        "colab_type": "code",
        "colab": {}
      },
      "source": [
        "from sklearn.model_selection import train_test_split"
      ],
      "execution_count": 0,
      "outputs": []
    },
    {
      "cell_type": "code",
      "metadata": {
        "id": "g_Gl5lFBa178",
        "colab_type": "code",
        "colab": {}
      },
      "source": [
        "from sklearn import preprocessing"
      ],
      "execution_count": 0,
      "outputs": []
    },
    {
      "cell_type": "code",
      "metadata": {
        "id": "AxrU5NBfa5NM",
        "colab_type": "code",
        "colab": {}
      },
      "source": [
        "#Import Random forest for  model( don't worry more on this libraries. You will understand more as we go ahead)\n",
        "from sklearn.ensemble import RandomForestRegressor"
      ],
      "execution_count": 0,
      "outputs": []
    },
    {
      "cell_type": "code",
      "metadata": {
        "id": "u8TjTKxBbymP",
        "colab_type": "code",
        "colab": {}
      },
      "source": [
        "#For now, let's move on to importing the tools to help us perform cross-validation.\n",
        "from sklearn.pipeline import make_pipeline\n",
        "from sklearn.model_selection import GridSearchCV\n"
      ],
      "execution_count": 0,
      "outputs": []
    },
    {
      "cell_type": "code",
      "metadata": {
        "id": "XfnciNbXcsKr",
        "colab_type": "code",
        "colab": {}
      },
      "source": [
        "#Next, let's import some metrics we can use to evaluate our model performance later.\n",
        "\n",
        "from sklearn.metrics import mean_squared_error, r2_score"
      ],
      "execution_count": 0,
      "outputs": []
    },
    {
      "cell_type": "code",
      "metadata": {
        "id": "-b7_Mz5dc9nY",
        "colab_type": "code",
        "colab": {
          "base_uri": "https://localhost:8080/",
          "height": 70
        },
        "outputId": "17ae2d9d-40f1-4fa2-f925-4a21987678c8"
      },
      "source": [
        "from sklearn.externals import joblib"
      ],
      "execution_count": 9,
      "outputs": [
        {
          "output_type": "stream",
          "text": [
            "/usr/local/lib/python3.6/dist-packages/sklearn/externals/joblib/__init__.py:15: DeprecationWarning: sklearn.externals.joblib is deprecated in 0.21 and will be removed in 0.23. Please import this functionality directly from joblib, which can be installed with: pip install joblib. If this warning is raised when loading pickled models, you may need to re-serialize those models with scikit-learn 0.21+.\n",
            "  warnings.warn(msg, category=DeprecationWarning)\n"
          ],
          "name": "stderr"
        }
      ]
    },
    {
      "cell_type": "code",
      "metadata": {
        "id": "451bnCj9dJh7",
        "colab_type": "code",
        "colab": {}
      },
      "source": [
        "#now lets load the data\n",
        "#Load wine data from remote URLPython\n",
        "dataset_url = 'http://mlr.cs.umass.edu/ml/machine-learning-databases/wine-quality/winequality-red.csv'\n",
        "data = pd.read_csv(dataset_url)"
      ],
      "execution_count": 0,
      "outputs": []
    },
    {
      "cell_type": "code",
      "metadata": {
        "id": "-rUckuspdXJC",
        "colab_type": "code",
        "colab": {
          "base_uri": "https://localhost:8080/",
          "height": 213
        },
        "outputId": "b0c7308d-7008-47ba-9b72-fbd807c2c853"
      },
      "source": [
        "#lets view the data\n",
        "data.head()"
      ],
      "execution_count": 11,
      "outputs": [
        {
          "output_type": "execute_result",
          "data": {
            "text/html": [
              "<div>\n",
              "<style scoped>\n",
              "    .dataframe tbody tr th:only-of-type {\n",
              "        vertical-align: middle;\n",
              "    }\n",
              "\n",
              "    .dataframe tbody tr th {\n",
              "        vertical-align: top;\n",
              "    }\n",
              "\n",
              "    .dataframe thead th {\n",
              "        text-align: right;\n",
              "    }\n",
              "</style>\n",
              "<table border=\"1\" class=\"dataframe\">\n",
              "  <thead>\n",
              "    <tr style=\"text-align: right;\">\n",
              "      <th></th>\n",
              "      <th>fixed acidity;\"volatile acidity\";\"citric acid\";\"residual sugar\";\"chlorides\";\"free sulfur dioxide\";\"total sulfur dioxide\";\"density\";\"pH\";\"sulphates\";\"alcohol\";\"quality\"</th>\n",
              "    </tr>\n",
              "  </thead>\n",
              "  <tbody>\n",
              "    <tr>\n",
              "      <th>0</th>\n",
              "      <td>7.4;0.7;0;1.9;0.076;11;34;0.9978;3.51;0.56;9.4;5</td>\n",
              "    </tr>\n",
              "    <tr>\n",
              "      <th>1</th>\n",
              "      <td>7.8;0.88;0;2.6;0.098;25;67;0.9968;3.2;0.68;9.8;5</td>\n",
              "    </tr>\n",
              "    <tr>\n",
              "      <th>2</th>\n",
              "      <td>7.8;0.76;0.04;2.3;0.092;15;54;0.997;3.26;0.65;...</td>\n",
              "    </tr>\n",
              "    <tr>\n",
              "      <th>3</th>\n",
              "      <td>11.2;0.28;0.56;1.9;0.075;17;60;0.998;3.16;0.58...</td>\n",
              "    </tr>\n",
              "    <tr>\n",
              "      <th>4</th>\n",
              "      <td>7.4;0.7;0;1.9;0.076;11;34;0.9978;3.51;0.56;9.4;5</td>\n",
              "    </tr>\n",
              "  </tbody>\n",
              "</table>\n",
              "</div>"
            ],
            "text/plain": [
              "  fixed acidity;\"volatile acidity\";\"citric acid\";\"residual sugar\";\"chlorides\";\"free sulfur dioxide\";\"total sulfur dioxide\";\"density\";\"pH\";\"sulphates\";\"alcohol\";\"quality\"\n",
              "0   7.4;0.7;0;1.9;0.076;11;34;0.9978;3.51;0.56;9.4;5                                                                                                                     \n",
              "1   7.8;0.88;0;2.6;0.098;25;67;0.9968;3.2;0.68;9.8;5                                                                                                                     \n",
              "2  7.8;0.76;0.04;2.3;0.092;15;54;0.997;3.26;0.65;...                                                                                                                     \n",
              "3  11.2;0.28;0.56;1.9;0.075;17;60;0.998;3.16;0.58...                                                                                                                     \n",
              "4   7.4;0.7;0;1.9;0.076;11;34;0.9978;3.51;0.56;9.4;5                                                                                                                     "
            ]
          },
          "metadata": {
            "tags": []
          },
          "execution_count": 11
        }
      ]
    },
    {
      "cell_type": "code",
      "metadata": {
        "id": "86i5JNUsdiSi",
        "colab_type": "code",
        "colab": {
          "base_uri": "https://localhost:8080/",
          "height": 150
        },
        "outputId": "b2819da2-bd20-49cc-bf1a-43ec989b38c5"
      },
      "source": [
        "data = pd.read_csv(dataset_url, sep=';')\n",
        "print(data.head())"
      ],
      "execution_count": 14,
      "outputs": [
        {
          "output_type": "stream",
          "text": [
            "   fixed acidity  volatile acidity  citric acid  ...  sulphates  alcohol  quality\n",
            "0            7.4              0.70         0.00  ...       0.56      9.4        5\n",
            "1            7.8              0.88         0.00  ...       0.68      9.8        5\n",
            "2            7.8              0.76         0.04  ...       0.65      9.8        5\n",
            "3           11.2              0.28         0.56  ...       0.58      9.8        6\n",
            "4            7.4              0.70         0.00  ...       0.56      9.4        5\n",
            "\n",
            "[5 rows x 12 columns]\n"
          ],
          "name": "stdout"
        }
      ]
    },
    {
      "cell_type": "code",
      "metadata": {
        "id": "xy_yfCQjdqsR",
        "colab_type": "code",
        "colab": {
          "base_uri": "https://localhost:8080/",
          "height": 33
        },
        "outputId": "e03fee5f-1cdd-45e4-a9df-eb508a0c3e66"
      },
      "source": [
        "print(data.shape)"
      ],
      "execution_count": 16,
      "outputs": [
        {
          "output_type": "stream",
          "text": [
            "(1599, 12)\n"
          ],
          "name": "stdout"
        }
      ]
    },
    {
      "cell_type": "code",
      "metadata": {
        "id": "05CRV_Prd9e5",
        "colab_type": "code",
        "colab": {
          "base_uri": "https://localhost:8080/",
          "height": 1000
        },
        "outputId": "2b22527a-2ae5-4a04-fb54-89e122fd54c6"
      },
      "source": [
        "#summary stats\n",
        "print(data.describe)"
      ],
      "execution_count": 17,
      "outputs": [
        {
          "output_type": "stream",
          "text": [
            "<bound method NDFrame.describe of       fixed acidity  volatile acidity  citric acid  ...  sulphates  alcohol  quality\n",
            "0               7.4             0.700         0.00  ...       0.56      9.4        5\n",
            "1               7.8             0.880         0.00  ...       0.68      9.8        5\n",
            "2               7.8             0.760         0.04  ...       0.65      9.8        5\n",
            "3              11.2             0.280         0.56  ...       0.58      9.8        6\n",
            "4               7.4             0.700         0.00  ...       0.56      9.4        5\n",
            "5               7.4             0.660         0.00  ...       0.56      9.4        5\n",
            "6               7.9             0.600         0.06  ...       0.46      9.4        5\n",
            "7               7.3             0.650         0.00  ...       0.47     10.0        7\n",
            "8               7.8             0.580         0.02  ...       0.57      9.5        7\n",
            "9               7.5             0.500         0.36  ...       0.80     10.5        5\n",
            "10              6.7             0.580         0.08  ...       0.54      9.2        5\n",
            "11              7.5             0.500         0.36  ...       0.80     10.5        5\n",
            "12              5.6             0.615         0.00  ...       0.52      9.9        5\n",
            "13              7.8             0.610         0.29  ...       1.56      9.1        5\n",
            "14              8.9             0.620         0.18  ...       0.88      9.2        5\n",
            "15              8.9             0.620         0.19  ...       0.93      9.2        5\n",
            "16              8.5             0.280         0.56  ...       0.75     10.5        7\n",
            "17              8.1             0.560         0.28  ...       1.28      9.3        5\n",
            "18              7.4             0.590         0.08  ...       0.50      9.0        4\n",
            "19              7.9             0.320         0.51  ...       1.08      9.2        6\n",
            "20              8.9             0.220         0.48  ...       0.53      9.4        6\n",
            "21              7.6             0.390         0.31  ...       0.65      9.7        5\n",
            "22              7.9             0.430         0.21  ...       0.91      9.5        5\n",
            "23              8.5             0.490         0.11  ...       0.53      9.4        5\n",
            "24              6.9             0.400         0.14  ...       0.63      9.7        6\n",
            "25              6.3             0.390         0.16  ...       0.56      9.3        5\n",
            "26              7.6             0.410         0.24  ...       0.59      9.5        5\n",
            "27              7.9             0.430         0.21  ...       0.91      9.5        5\n",
            "28              7.1             0.710         0.00  ...       0.55      9.4        5\n",
            "29              7.8             0.645         0.00  ...       0.59      9.8        6\n",
            "...             ...               ...          ...  ...        ...      ...      ...\n",
            "1569            6.2             0.510         0.14  ...       0.57     11.5        6\n",
            "1570            6.4             0.360         0.53  ...       0.93     12.4        6\n",
            "1571            6.4             0.380         0.14  ...       0.65     11.1        6\n",
            "1572            7.3             0.690         0.32  ...       0.51      9.5        5\n",
            "1573            6.0             0.580         0.20  ...       0.67     12.5        6\n",
            "1574            5.6             0.310         0.78  ...       0.48     10.5        6\n",
            "1575            7.5             0.520         0.40  ...       0.64     11.8        6\n",
            "1576            8.0             0.300         0.63  ...       0.78     10.8        6\n",
            "1577            6.2             0.700         0.15  ...       0.60     11.9        6\n",
            "1578            6.8             0.670         0.15  ...       0.67     11.3        6\n",
            "1579            6.2             0.560         0.09  ...       0.60     11.3        5\n",
            "1580            7.4             0.350         0.33  ...       0.60     11.9        6\n",
            "1581            6.2             0.560         0.09  ...       0.60     11.3        5\n",
            "1582            6.1             0.715         0.10  ...       0.50     11.9        5\n",
            "1583            6.2             0.460         0.29  ...       0.62      9.8        5\n",
            "1584            6.7             0.320         0.44  ...       0.80     11.6        7\n",
            "1585            7.2             0.390         0.44  ...       0.84     11.5        6\n",
            "1586            7.5             0.310         0.41  ...       0.85     11.4        6\n",
            "1587            5.8             0.610         0.11  ...       0.66     10.9        6\n",
            "1588            7.2             0.660         0.33  ...       0.78     12.8        6\n",
            "1589            6.6             0.725         0.20  ...       0.54      9.2        5\n",
            "1590            6.3             0.550         0.15  ...       0.82     11.6        6\n",
            "1591            5.4             0.740         0.09  ...       0.56     11.6        6\n",
            "1592            6.3             0.510         0.13  ...       0.75     11.0        6\n",
            "1593            6.8             0.620         0.08  ...       0.82      9.5        6\n",
            "1594            6.2             0.600         0.08  ...       0.58     10.5        5\n",
            "1595            5.9             0.550         0.10  ...       0.76     11.2        6\n",
            "1596            6.3             0.510         0.13  ...       0.75     11.0        6\n",
            "1597            5.9             0.645         0.12  ...       0.71     10.2        5\n",
            "1598            6.0             0.310         0.47  ...       0.66     11.0        6\n",
            "\n",
            "[1599 rows x 12 columns]>\n"
          ],
          "name": "stdout"
        }
      ]
    },
    {
      "cell_type": "code",
      "metadata": {
        "id": "1-7YVmdreKPK",
        "colab_type": "code",
        "colab": {}
      },
      "source": [
        "# split your data into training data and test data\n",
        "y = data.quality\n",
        "X = data.drop('quality', axis=1) "
      ],
      "execution_count": 0,
      "outputs": []
    },
    {
      "cell_type": "code",
      "metadata": {
        "id": "TzoLP0ixelEc",
        "colab_type": "code",
        "colab": {}
      },
      "source": [
        "X_train, X_test, y_train, y_test = train_test_split(X, y, \n",
        "                                                    test_size=0.2, \n",
        "                                                    random_state=123, \n",
        "                                                    stratify=y)"
      ],
      "execution_count": 0,
      "outputs": []
    },
    {
      "cell_type": "code",
      "metadata": {
        "id": "fpjaQoPvewRl",
        "colab_type": "code",
        "colab": {}
      },
      "source": [
        "#Fitting the Transformer APIPython\n",
        "\n",
        "scaler = preprocessing.StandardScaler().fit(X_train)"
      ],
      "execution_count": 0,
      "outputs": []
    },
    {
      "cell_type": "code",
      "metadata": {
        "id": "z7DuN3ZBe2rs",
        "colab_type": "code",
        "colab": {}
      },
      "source": [
        "X_train_scaled = scaler.transform(X_train)\n",
        "\n"
      ],
      "execution_count": 0,
      "outputs": []
    },
    {
      "cell_type": "code",
      "metadata": {
        "id": "kuUmS8wme8HA",
        "colab_type": "code",
        "colab": {
          "base_uri": "https://localhost:8080/",
          "height": 50
        },
        "outputId": "a3d58fbb-458f-48d2-8e29-18da559dacca"
      },
      "source": [
        "X_test_scaled = scaler.transform(X_test)\n",
        " \n",
        "print(X_test_scaled.mean(axis=0))"
      ],
      "execution_count": 24,
      "outputs": [
        {
          "output_type": "stream",
          "text": [
            "[ 0.02776704  0.02592492 -0.03078587 -0.03137977 -0.00471876 -0.04413827\n",
            " -0.02414174 -0.00293273 -0.00467444 -0.10894663  0.01043391]\n"
          ],
          "name": "stdout"
        }
      ]
    },
    {
      "cell_type": "code",
      "metadata": {
        "id": "nFwpJ8ESfOjT",
        "colab_type": "code",
        "colab": {}
      },
      "source": [
        "pipeline = make_pipeline(preprocessing.StandardScaler(), \n",
        "                         RandomForestRegressor(n_estimators=100))"
      ],
      "execution_count": 0,
      "outputs": []
    },
    {
      "cell_type": "code",
      "metadata": {
        "id": "QXQlIVrQfgME",
        "colab_type": "code",
        "colab": {
          "base_uri": "https://localhost:8080/",
          "height": 254
        },
        "outputId": "4e4a7dad-72e3-4a04-fc22-f5c1f8004808"
      },
      "source": [
        "print(pipeline.get_params())"
      ],
      "execution_count": 26,
      "outputs": [
        {
          "output_type": "stream",
          "text": [
            "{'memory': None, 'steps': [('standardscaler', StandardScaler(copy=True, with_mean=True, with_std=True)), ('randomforestregressor', RandomForestRegressor(bootstrap=True, criterion='mse', max_depth=None,\n",
            "                      max_features='auto', max_leaf_nodes=None,\n",
            "                      min_impurity_decrease=0.0, min_impurity_split=None,\n",
            "                      min_samples_leaf=1, min_samples_split=2,\n",
            "                      min_weight_fraction_leaf=0.0, n_estimators=100,\n",
            "                      n_jobs=None, oob_score=False, random_state=None,\n",
            "                      verbose=0, warm_start=False))], 'verbose': False, 'standardscaler': StandardScaler(copy=True, with_mean=True, with_std=True), 'randomforestregressor': RandomForestRegressor(bootstrap=True, criterion='mse', max_depth=None,\n",
            "                      max_features='auto', max_leaf_nodes=None,\n",
            "                      min_impurity_decrease=0.0, min_impurity_split=None,\n",
            "                      min_samples_leaf=1, min_samples_split=2,\n",
            "                      min_weight_fraction_leaf=0.0, n_estimators=100,\n",
            "                      n_jobs=None, oob_score=False, random_state=None,\n",
            "                      verbose=0, warm_start=False), 'standardscaler__copy': True, 'standardscaler__with_mean': True, 'standardscaler__with_std': True, 'randomforestregressor__bootstrap': True, 'randomforestregressor__criterion': 'mse', 'randomforestregressor__max_depth': None, 'randomforestregressor__max_features': 'auto', 'randomforestregressor__max_leaf_nodes': None, 'randomforestregressor__min_impurity_decrease': 0.0, 'randomforestregressor__min_impurity_split': None, 'randomforestregressor__min_samples_leaf': 1, 'randomforestregressor__min_samples_split': 2, 'randomforestregressor__min_weight_fraction_leaf': 0.0, 'randomforestregressor__n_estimators': 100, 'randomforestregressor__n_jobs': None, 'randomforestregressor__oob_score': False, 'randomforestregressor__random_state': None, 'randomforestregressor__verbose': 0, 'randomforestregressor__warm_start': False}\n"
          ],
          "name": "stdout"
        }
      ]
    },
    {
      "cell_type": "code",
      "metadata": {
        "id": "0XDBtcOofrdJ",
        "colab_type": "code",
        "colab": {}
      },
      "source": [
        "hyperparameters = { 'randomforestregressor__max_features' : ['auto', 'sqrt', 'log2'],\n",
        "                  'randomforestregressor__max_depth': [None, 5, 3, 1]}"
      ],
      "execution_count": 0,
      "outputs": []
    },
    {
      "cell_type": "code",
      "metadata": {
        "id": "NOr_sPJaf0l1",
        "colab_type": "code",
        "colab": {
          "base_uri": "https://localhost:8080/",
          "height": 502
        },
        "outputId": "e6fba4ff-e4f6-4201-96f8-780ce93f2fc8"
      },
      "source": [
        "clf = GridSearchCV(pipeline, hyperparameters, cv=10)\n",
        " \n",
        "# Fit and tune model\n",
        "clf.fit(X_train, y_train)"
      ],
      "execution_count": 28,
      "outputs": [
        {
          "output_type": "execute_result",
          "data": {
            "text/plain": [
              "GridSearchCV(cv=10, error_score='raise-deprecating',\n",
              "             estimator=Pipeline(memory=None,\n",
              "                                steps=[('standardscaler',\n",
              "                                        StandardScaler(copy=True,\n",
              "                                                       with_mean=True,\n",
              "                                                       with_std=True)),\n",
              "                                       ('randomforestregressor',\n",
              "                                        RandomForestRegressor(bootstrap=True,\n",
              "                                                              criterion='mse',\n",
              "                                                              max_depth=None,\n",
              "                                                              max_features='auto',\n",
              "                                                              max_leaf_nodes=None,\n",
              "                                                              min_impurity_decrease=0.0,\n",
              "                                                              min_impurity_split=None,\n",
              "                                                              min_...\n",
              "                                                              min_weight_fraction_leaf=0.0,\n",
              "                                                              n_estimators=100,\n",
              "                                                              n_jobs=None,\n",
              "                                                              oob_score=False,\n",
              "                                                              random_state=None,\n",
              "                                                              verbose=0,\n",
              "                                                              warm_start=False))],\n",
              "                                verbose=False),\n",
              "             iid='warn', n_jobs=None,\n",
              "             param_grid={'randomforestregressor__max_depth': [None, 5, 3, 1],\n",
              "                         'randomforestregressor__max_features': ['auto', 'sqrt',\n",
              "                                                                 'log2']},\n",
              "             pre_dispatch='2*n_jobs', refit=True, return_train_score=False,\n",
              "             scoring=None, verbose=0)"
            ]
          },
          "metadata": {
            "tags": []
          },
          "execution_count": 28
        }
      ]
    },
    {
      "cell_type": "code",
      "metadata": {
        "id": "DOHvF-_AgA37",
        "colab_type": "code",
        "colab": {
          "base_uri": "https://localhost:8080/",
          "height": 33
        },
        "outputId": "48f6f717-2671-4e5b-a562-1dc7df2b85d2"
      },
      "source": [
        "print(clf.refit)"
      ],
      "execution_count": 30,
      "outputs": [
        {
          "output_type": "stream",
          "text": [
            "True\n"
          ],
          "name": "stdout"
        }
      ]
    },
    {
      "cell_type": "code",
      "metadata": {
        "id": "Ncquwe7qgHym",
        "colab_type": "code",
        "colab": {}
      },
      "source": [
        "y_pred = clf.predict(X_test)"
      ],
      "execution_count": 0,
      "outputs": []
    },
    {
      "cell_type": "code",
      "metadata": {
        "id": "zFb4N_z1gRh8",
        "colab_type": "code",
        "colab": {
          "base_uri": "https://localhost:8080/",
          "height": 50
        },
        "outputId": "317754ae-df27-417e-a12a-ac843ab4df14"
      },
      "source": [
        "print(r2_score(y_test, y_pred))\n",
        "# 0.45044082571584243\n",
        " \n",
        "print(mean_squared_error(y_test, y_pred))"
      ],
      "execution_count": 33,
      "outputs": [
        {
          "output_type": "stream",
          "text": [
            "0.4720072643622496\n",
            "0.3406996875\n"
          ],
          "name": "stdout"
        }
      ]
    },
    {
      "cell_type": "code",
      "metadata": {
        "id": "kQ-Jz4OhgXh-",
        "colab_type": "code",
        "colab": {
          "base_uri": "https://localhost:8080/",
          "height": 33
        },
        "outputId": "bd82c2db-f1e1-433c-f4e0-bb78e4248f2e"
      },
      "source": [
        "joblib.dump(clf, 'rf_regressor.pkl')"
      ],
      "execution_count": 34,
      "outputs": [
        {
          "output_type": "execute_result",
          "data": {
            "text/plain": [
              "['rf_regressor.pkl']"
            ]
          },
          "metadata": {
            "tags": []
          },
          "execution_count": 34
        }
      ]
    },
    {
      "cell_type": "code",
      "metadata": {
        "id": "ra-I9nmkgmpa",
        "colab_type": "code",
        "colab": {}
      },
      "source": [
        "clf2 = joblib.load('rf_regressor.pkl')\n",
        "#And that's it. When you want to load the model again, simply use this function:"
      ],
      "execution_count": 0,
      "outputs": []
    },
    {
      "cell_type": "code",
      "metadata": {
        "id": "099dQGgMgrpC",
        "colab_type": "code",
        "colab": {
          "base_uri": "https://localhost:8080/",
          "height": 518
        },
        "outputId": "ead5b3b8-a478-4817-9131-99424cca9308"
      },
      "source": [
        "clf2.predict(X_test)"
      ],
      "execution_count": 36,
      "outputs": [
        {
          "output_type": "execute_result",
          "data": {
            "text/plain": [
              "array([6.41, 5.7 , 4.95, 5.52, 6.27, 5.53, 4.97, 4.88, 5.04, 6.13, 5.31,\n",
              "       5.68, 5.9 , 5.09, 5.8 , 5.61, 6.7 , 5.69, 5.78, 6.97, 5.44, 5.59,\n",
              "       5.04, 6.04, 5.83, 5.06, 5.37, 5.17, 6.01, 5.94, 5.87, 6.59, 5.98,\n",
              "       5.04, 4.92, 5.83, 5.02, 6.  , 5.03, 6.07, 4.92, 5.83, 6.63, 5.12,\n",
              "       6.15, 5.25, 5.51, 5.57, 5.16, 6.45, 5.97, 5.32, 5.77, 5.11, 5.56,\n",
              "       5.78, 5.36, 5.29, 4.98, 5.24, 5.29, 5.2 , 5.04, 5.78, 5.91, 5.29,\n",
              "       6.52, 5.01, 5.19, 6.64, 5.69, 5.85, 5.04, 4.96, 5.41, 6.07, 5.31,\n",
              "       5.06, 5.28, 5.3 , 6.32, 5.56, 6.22, 6.54, 5.12, 5.93, 6.41, 6.19,\n",
              "       5.67, 5.8 , 5.9 , 5.34, 6.43, 5.75, 5.72, 5.75, 6.68, 6.82, 5.57,\n",
              "       6.79, 5.07, 5.41, 5.1 , 6.51, 5.1 , 4.85, 5.62, 5.11, 5.65, 5.9 ,\n",
              "       5.94, 5.5 , 6.04, 5.36, 5.23, 5.2 , 5.95, 5.09, 5.04, 6.04, 5.86,\n",
              "       5.11, 5.79, 6.09, 5.3 , 5.38, 5.37, 5.91, 5.37, 5.38, 5.8 , 6.19,\n",
              "       5.19, 5.26, 5.02, 6.47, 5.05, 5.12, 6.64, 5.39, 5.24, 5.07, 5.73,\n",
              "       6.1 , 5.29, 5.42, 5.07, 6.59, 5.82, 5.03, 5.58, 5.12, 5.  , 4.98,\n",
              "       5.29, 5.94, 5.36, 5.75, 5.82, 5.32, 5.54, 5.26, 5.23, 5.98, 5.03,\n",
              "       5.92, 5.16, 5.44, 5.5 , 5.2 , 5.98, 5.12, 5.56, 5.13, 5.67, 5.41,\n",
              "       5.02, 5.39, 5.53, 5.02, 6.02, 5.48, 5.03, 4.98, 5.18, 6.15, 5.26,\n",
              "       5.6 , 5.25, 4.74, 5.46, 6.46, 5.79, 5.95, 5.34, 5.22, 5.45, 5.09,\n",
              "       6.28, 4.88, 6.4 , 5.03, 5.34, 5.29, 6.84, 6.15, 5.17, 5.26, 5.34,\n",
              "       5.89, 5.85, 5.91, 5.99, 6.32, 5.73, 5.91, 5.2 , 5.31, 5.66, 5.25,\n",
              "       5.26, 6.06, 6.3 , 5.58, 6.01, 5.86, 5.53, 6.25, 5.45, 5.83, 5.41,\n",
              "       5.51, 6.22, 5.66, 4.92, 4.59, 6.69, 6.46, 6.26, 5.28, 5.37, 5.54,\n",
              "       5.51, 6.22, 6.04, 5.18, 5.12, 5.35, 5.35, 6.29, 5.13, 5.06, 5.25,\n",
              "       5.16, 5.85, 6.36, 5.65, 5.36, 5.57, 6.35, 5.52, 6.01, 5.36, 5.23,\n",
              "       5.74, 5.97, 5.95, 5.51, 5.44, 5.11, 5.78, 5.53, 6.42, 6.06, 5.65,\n",
              "       5.  , 5.94, 6.57, 6.02, 5.43, 5.62, 5.23, 5.4 , 6.04, 6.87, 5.29,\n",
              "       6.49, 5.92, 5.32, 5.44, 5.71, 5.06, 5.2 , 6.27, 5.9 , 6.09, 5.95,\n",
              "       5.95, 5.42, 5.6 , 5.57, 6.05, 5.44, 6.83, 6.81, 5.95, 6.28, 5.02,\n",
              "       5.32, 5.83, 5.31, 5.25, 5.95, 6.5 , 6.46, 5.26, 5.63, 5.58, 5.96,\n",
              "       5.39])"
            ]
          },
          "metadata": {
            "tags": []
          },
          "execution_count": 36
        }
      ]
    },
    {
      "cell_type": "code",
      "metadata": {
        "id": "4HxHve9GgzQ3",
        "colab_type": "code",
        "colab": {}
      },
      "source": [
        ""
      ],
      "execution_count": 0,
      "outputs": []
    }
  ]
}
